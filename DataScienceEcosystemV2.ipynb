{
 "cells": [
  {
   "cell_type": "markdown",
   "id": "f66eddef-fba9-4d1c-a565-137ee9d01597",
   "metadata": {
    "tags": []
   },
   "source": [
    "Exercise 2. Creating a title"
   ]
  },
  {
   "cell_type": "markdown",
   "id": "43035ea8-a0d9-4e15-8ca3-82e7c807bc6a",
   "metadata": {
    "tags": []
   },
   "source": [
    "# **Data Science Tools and Ecosystem**"
   ]
  },
  {
   "cell_type": "markdown",
   "id": "5c5a9f7e-abe2-44b7-9b42-5684d194befe",
   "metadata": {},
   "source": [
    "# **Data Science Tools and Ecosystem**"
   ]
  },
  {
   "cell_type": "markdown",
   "id": "b9866a09-544e-448f-9926-85b72278331d",
   "metadata": {},
   "source": [
    "Exercise 3. Introductory sentence"
   ]
  },
  {
   "cell_type": "markdown",
   "id": "aa33615a-a135-49ab-a03a-0ad3db3454c2",
   "metadata": {
    "tags": []
   },
   "source": [
    "#### This notebook contains some of the tools used in Data Science. Serve this notebook as a proof of the skills acquired from the module \"Tools for data science\"."
   ]
  },
  {
   "cell_type": "markdown",
   "id": "bf3183b2-d630-4000-a54c-637dd21d0340",
   "metadata": {
    "tags": []
   },
   "source": [
    "#### This notebook contains some of the tools used in Data Science. Serve this notebook as a proof of the skills acquired from the module \"Tools for data science\"."
   ]
  },
  {
   "cell_type": "markdown",
   "id": "9bfd7fac-c4d3-409c-b25c-b549ae12355c",
   "metadata": {},
   "source": [
    "Exercise 10. Objectives"
   ]
  },
  {
   "cell_type": "markdown",
   "id": "fd1b4f47-ff75-4f55-9c53-5ea2feaf649a",
   "metadata": {},
   "source": [
    "#### **Objectives:**\n",
    "* Make use of the abilities acquired from this module regarding Jupyter Notebooks.\n",
    "* List popular languages used in Data Science.\n",
    "* List popular libraries used in Data Science. \n",
    "* Create code to solve basic arithmetic expressions."
   ]
  },
  {
   "cell_type": "markdown",
   "id": "56cf9b6a-855e-4977-b901-860c31b54207",
   "metadata": {},
   "source": [
    "#### **Objectives:**\n",
    "* Make use of the abilities acquired from this module regarding Jupyter Notebooks.\n",
    "* List popular languages used in Data Science.\n",
    "* List popular libraries used in Data Science. \n",
    "* Create code to solve basic arithmetic expressions."
   ]
  },
  {
   "cell_type": "markdown",
   "id": "554d15bb-bf7b-4f01-9fea-a7c7d1163cae",
   "metadata": {},
   "source": [
    "Exercise 4. List of Data Science Languages"
   ]
  },
  {
   "cell_type": "markdown",
   "id": "30fe3cc3-0252-47c3-b979-cef787f062e9",
   "metadata": {},
   "source": [
    "#### Some of the popular languages in Data Science are listed below:\n",
    "\n",
    "1. Python\n",
    "2. R\n",
    "3. SQL\n",
    "4. Java\n",
    "5. Julia\n",
    "6. Scala\n",
    "7. C++\n"
   ]
  },
  {
   "cell_type": "markdown",
   "id": "026500bf-3ef5-4b49-854e-076838fe77ed",
   "metadata": {},
   "source": [
    "#### Some of the popular languages in Data Science are listed below:\n",
    "\n",
    "1. Python\n",
    "2. R\n",
    "3. SQL\n",
    "4. Java\n",
    "5. Julia\n",
    "6. Scala\n",
    "7. C++\n"
   ]
  },
  {
   "cell_type": "markdown",
   "id": "94e11bc8-9e71-4737-84eb-e814961c8f42",
   "metadata": {},
   "source": [
    "Exercise 5. Data Science Libraries"
   ]
  },
  {
   "cell_type": "markdown",
   "id": "d878f7be-db9f-4290-86c2-367752cadbec",
   "metadata": {},
   "source": [
    "#### The following libraries are among the most popular in Data Science:\n",
    "\n",
    "1. Pandas\n",
    "2. NumPy\n",
    "3. Matplotlib\n",
    "4. Keras\n",
    "5. Vegas\n",
    "6. Tensorflow\n",
    "7. Scikit-learn"
   ]
  },
  {
   "cell_type": "markdown",
   "id": "2a3708a3-b514-408d-9a71-bbab86602517",
   "metadata": {},
   "source": [
    "#### The following libraries are among the most popular in Data Science:\n",
    "\n",
    "1. Pandas\n",
    "2. NumPy\n",
    "3. Matplotlib\n",
    "4. Keras\n",
    "5. Vegas\n",
    "6. Tensorflow\n",
    "7. Scikit-learn"
   ]
  },
  {
   "cell_type": "markdown",
   "id": "3a7645de-d90d-4e76-987f-43841b6e6f45",
   "metadata": {},
   "source": [
    "Exercise 6. Table of Data Science Tools"
   ]
  },
  {
   "cell_type": "markdown",
   "id": "b3956153-ccbf-4cd4-ab87-d4247b91b266",
   "metadata": {},
   "source": [
    "#### The table below shows some of the development environment open source tools for data science: \n",
    "|Data Science Tools|\n",
    "|------------------|\n",
    "| Jupyter Notebooks |\n",
    "| Apache Zeppelin |\n",
    "| RStudio | "
   ]
  },
  {
   "cell_type": "markdown",
   "id": "597fa050-2bbf-4e75-ab94-160e96b7e75c",
   "metadata": {},
   "source": [
    "#### The table below shows some of the development environment open source tools for data science: \n",
    "|Data Science Tools|\n",
    "|------------------|\n",
    "| Jupyter Notebooks |\n",
    "| Apache Zeppelin |\n",
    "| RStudio | "
   ]
  },
  {
   "cell_type": "markdown",
   "id": "9ecffc7f-9f32-4a3e-95eb-79624436d11f",
   "metadata": {},
   "source": [
    "Exercise 7. Introducing arithmetic expressions"
   ]
  },
  {
   "cell_type": "markdown",
   "id": "608a93ba-4b22-4de8-b8e8-c45bbb6c2d88",
   "metadata": {
    "jp-MarkdownHeadingCollapsed": true,
    "tags": []
   },
   "source": [
    "### In the following cells, we can find some examples of arithmetic expressions evaluated in Python."
   ]
  },
  {
   "cell_type": "markdown",
   "id": "8d0569c6-f5d3-46af-8418-adc14f87c63c",
   "metadata": {},
   "source": [
    "### In the following cells, we can find some examples of arithmetic expressions evaluated in Python."
   ]
  },
  {
   "cell_type": "markdown",
   "id": "b8e66e83-cdf6-474b-ba78-46d0ee9b86a8",
   "metadata": {},
   "source": [
    "Exercise 8. Multiplying and adding numbers"
   ]
  },
  {
   "cell_type": "code",
   "execution_count": 4,
   "id": "6fe5b076-7089-4d69-9e23-ab13558f8ef4",
   "metadata": {
    "tags": []
   },
   "outputs": [
    {
     "data": {
      "text/plain": [
       "17"
      ]
     },
     "execution_count": 4,
     "metadata": {},
     "output_type": "execute_result"
    }
   ],
   "source": [
    "# In this expression, two integers are multiplied and to the result another integer is added\n",
    "(3*4)+5"
   ]
  },
  {
   "cell_type": "markdown",
   "id": "66ecc6e7-7fda-4a47-8261-a7d3953bef49",
   "metadata": {},
   "source": [
    "Exercise 9. Converting minutes to hours"
   ]
  },
  {
   "cell_type": "code",
   "execution_count": 5,
   "id": "0f0cf183-23d2-4be8-8480-229d6b6a8d05",
   "metadata": {
    "tags": []
   },
   "outputs": [
    {
     "data": {
      "text/plain": [
       "3.3333333333333335"
      ]
     },
     "execution_count": 5,
     "metadata": {},
     "output_type": "execute_result"
    }
   ],
   "source": [
    "#In this cell, 200 minutes will be converted to hours\n",
    "200/60"
   ]
  },
  {
   "cell_type": "markdown",
   "id": "0347567d-b851-41ce-9aff-d30e175aed84",
   "metadata": {},
   "source": [
    "Exercise 11. Author details"
   ]
  },
  {
   "cell_type": "markdown",
   "id": "267dec99-f0e3-4029-86fa-553e985b93ac",
   "metadata": {},
   "source": [
    "## Author\n",
    "Luis Fernando Villaseñor Villagómez"
   ]
  },
  {
   "cell_type": "markdown",
   "id": "2c6fc7ee-5cc2-4015-9575-6506d0f394db",
   "metadata": {},
   "source": [
    "## Author\n",
    "Luis Fernando Villaseñor Villagómez"
   ]
  }
 ],
 "metadata": {
  "kernelspec": {
   "display_name": "Python",
   "language": "python",
   "name": "conda-env-python-py"
  },
  "language_info": {
   "codemirror_mode": {
    "name": "ipython",
    "version": 3
   },
   "file_extension": ".py",
   "mimetype": "text/x-python",
   "name": "python",
   "nbconvert_exporter": "python",
   "pygments_lexer": "ipython3",
   "version": "3.7.12"
  }
 },
 "nbformat": 4,
 "nbformat_minor": 5
}
